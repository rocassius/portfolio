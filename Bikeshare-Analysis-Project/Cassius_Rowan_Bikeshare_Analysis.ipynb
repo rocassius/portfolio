{
 "cells": [
  {
   "cell_type": "markdown",
   "metadata": {},
   "source": [
    "# Bikeshare Analysis\n",
    "Rowan Cassius – September, 2019"
   ]
  },
  {
   "cell_type": "markdown",
   "metadata": {},
   "source": [
    "## Excective Summary\n",
    "\n",
    "Careful and deliberate analysis of the bike share data has discovered meaningful insights regarding trip duration, seasonality of bike rides and variation in bike availabilty on a daily basis.\n",
    "\n",
    "On the basis of these insights, we strongly recommend that Ford GoBike implement the following changes in order to boost ridership in the bikeshare system:\n",
    "\n",
    "1. Offer monthly memberships in addition to annual memberships.\n",
    "2. Offer consistent daily discounts from the single trip flat rate according to the hour of the day at all stations universally. Sensible candidates for the hours of discounted flat rates are:\n",
    "    * Offering a \"Night Owl\" discount for riding between `8pm` and `6am`\n",
    "    * Offering a \"Midday\" discount for riding between `10am` and `3pm` \n",
    "3. Remove or extend the trip duration constraint associated with the day pass.\n",
    "\n",
    "Together these changes are likely to:\n",
    "1. Increase the number of subscribers.\n",
    "2. Increase the number of trips at unpopular riding times.\n",
    "3. Result in longer trips and happier customers."
   ]
  },
  {
   "cell_type": "code",
   "execution_count": 1,
   "metadata": {},
   "outputs": [],
   "source": [
    "# Dependencies\n",
    "import numpy as np\n",
    "import pandas as pd\n",
    "import matplotlib.pyplot as plt\n",
    "%matplotlib inline"
   ]
  },
  {
   "cell_type": "markdown",
   "metadata": {},
   "source": [
    "# The Data\n",
    "### Schema of the bike trips dataset\n",
    "\n",
    "* `trip_id`\n",
    "    * Numeric ID of bike trip\n",
    "* `duration_sec`\n",
    "    * Time of trip in seconds\n",
    "* `start_date`\t\n",
    "    * date of trip with date and time, in PST\n",
    "* `start_station_name`\n",
    "    * Station name of start station\n",
    "* `start_station_id`\n",
    "    * Numeric reference for start station\n",
    "* `end_date`\n",
    "    * End date of trip with date and time, in PST\n",
    "* `end_station_name`\n",
    "    * Station name for end station\n",
    "* `end_station_id`\n",
    "    * Numeric reference for end station\n",
    "* `bike_number`\n",
    "    * ID of bike used\n",
    "* `zip_code`\n",
    "    * Home zip code of subscriber (customers can choose to manually enter zip at kiosk however data is unreliable)\n",
    "* `subscriber_type`\n",
    "    * Subscriber = annual or 30-day member; Customer = 24-hour or 3-day member\n",
    "    \n",
    "### Schema of the bike stations dataset\n",
    "* `station_id`\n",
    "    * Numeric reference for the station\n",
    "* `docks_available`\n",
    "    * Number of docks available at the given time\n",
    "* `bikes_available`\n",
    "    * Number of bikes available at the given time\n",
    "* `time`\n",
    "    * Time of cross section\n",
    "* `total_bikes`\n",
    "    * The capacity of the station"
   ]
  },
  {
   "cell_type": "markdown",
   "metadata": {},
   "source": [
    "##  Part 1. Determine the most popular commuter trips.\n",
    "\n",
    "Chosen criteria for a commuter trip:\n",
    "* Start station and end station are different\n",
    "* Occurs at a popular commute time so as to enable attendance at a routine obligation\n",
    "    * popular commute times:\n",
    "         * morning commute time, `7am-10am`\n",
    "         * evening commute time, `5pm-8pm`\n",
    "* Occurs on a weekday\n",
    "    * `M`, `Tu`, `W`, `Th`, `F` \n",
    "    \n",
    "\n",
    "Notice that these commute time criteria target \"9-5\" jobs.\n"
   ]
  },
  {
   "cell_type": "markdown",
   "metadata": {},
   "source": [
    "### Trip count of commuter trips by start and end stations"
   ]
  },
  {
   "cell_type": "code",
   "execution_count": 8,
   "metadata": {
    "scrolled": true
   },
   "outputs": [
    {
     "data": {
      "text/html": [
       "<div>\n",
       "<style scoped>\n",
       "    .dataframe tbody tr th:only-of-type {\n",
       "        vertical-align: middle;\n",
       "    }\n",
       "\n",
       "    .dataframe tbody tr th {\n",
       "        vertical-align: top;\n",
       "    }\n",
       "\n",
       "    .dataframe thead th {\n",
       "        text-align: right;\n",
       "    }\n",
       "</style>\n",
       "<table border=\"1\" class=\"dataframe\">\n",
       "  <thead>\n",
       "    <tr style=\"text-align: right;\">\n",
       "      <th></th>\n",
       "      <th>start_station_name</th>\n",
       "      <th>end_station_name</th>\n",
       "      <th>number</th>\n",
       "    </tr>\n",
       "  </thead>\n",
       "  <tbody>\n",
       "    <tr>\n",
       "      <th>0</th>\n",
       "      <td>Harry Bridges Plaza (Ferry Building)</td>\n",
       "      <td>2nd at Townsend</td>\n",
       "      <td>4038</td>\n",
       "    </tr>\n",
       "    <tr>\n",
       "      <th>1</th>\n",
       "      <td>San Francisco Caltrain 2 (330 Townsend)</td>\n",
       "      <td>Townsend at 7th</td>\n",
       "      <td>3909</td>\n",
       "    </tr>\n",
       "    <tr>\n",
       "      <th>2</th>\n",
       "      <td>Steuart at Market</td>\n",
       "      <td>2nd at Townsend</td>\n",
       "      <td>3179</td>\n",
       "    </tr>\n",
       "    <tr>\n",
       "      <th>3</th>\n",
       "      <td>Harry Bridges Plaza (Ferry Building)</td>\n",
       "      <td>Embarcadero at Sansome</td>\n",
       "      <td>2863</td>\n",
       "    </tr>\n",
       "    <tr>\n",
       "      <th>4</th>\n",
       "      <td>Market at Sansome</td>\n",
       "      <td>2nd at South Park</td>\n",
       "      <td>2834</td>\n",
       "    </tr>\n",
       "    <tr>\n",
       "      <th>5</th>\n",
       "      <td>Steuart at Market</td>\n",
       "      <td>Embarcadero at Sansome</td>\n",
       "      <td>2730</td>\n",
       "    </tr>\n",
       "    <tr>\n",
       "      <th>6</th>\n",
       "      <td>Mountain View Caltrain Station</td>\n",
       "      <td>Mountain View City Hall</td>\n",
       "      <td>2572</td>\n",
       "    </tr>\n",
       "    <tr>\n",
       "      <th>7</th>\n",
       "      <td>San Francisco Caltrain (Townsend at 4th)</td>\n",
       "      <td>Harry Bridges Plaza (Ferry Building)</td>\n",
       "      <td>2488</td>\n",
       "    </tr>\n",
       "    <tr>\n",
       "      <th>8</th>\n",
       "      <td>San Francisco Caltrain 2 (330 Townsend)</td>\n",
       "      <td>Market at 10th</td>\n",
       "      <td>2337</td>\n",
       "    </tr>\n",
       "    <tr>\n",
       "      <th>9</th>\n",
       "      <td>San Francisco Caltrain (Townsend at 4th)</td>\n",
       "      <td>Howard at 2nd</td>\n",
       "      <td>2238</td>\n",
       "    </tr>\n",
       "  </tbody>\n",
       "</table>\n",
       "</div>"
      ],
      "text/plain": [
       "                         start_station_name  \\\n",
       "0      Harry Bridges Plaza (Ferry Building)   \n",
       "1   San Francisco Caltrain 2 (330 Townsend)   \n",
       "2                         Steuart at Market   \n",
       "3      Harry Bridges Plaza (Ferry Building)   \n",
       "4                         Market at Sansome   \n",
       "5                         Steuart at Market   \n",
       "6            Mountain View Caltrain Station   \n",
       "7  San Francisco Caltrain (Townsend at 4th)   \n",
       "8   San Francisco Caltrain 2 (330 Townsend)   \n",
       "9  San Francisco Caltrain (Townsend at 4th)   \n",
       "\n",
       "                       end_station_name  number  \n",
       "0                       2nd at Townsend    4038  \n",
       "1                       Townsend at 7th    3909  \n",
       "2                       2nd at Townsend    3179  \n",
       "3                Embarcadero at Sansome    2863  \n",
       "4                     2nd at South Park    2834  \n",
       "5                Embarcadero at Sansome    2730  \n",
       "6               Mountain View City Hall    2572  \n",
       "7  Harry Bridges Plaza (Ferry Building)    2488  \n",
       "8                        Market at 10th    2337  \n",
       "9                         Howard at 2nd    2238  "
      ]
     },
     "execution_count": 8,
     "metadata": {},
     "output_type": "execute_result"
    }
   ],
   "source": [
    "# See Query A in Appendix\n",
    "df_pop_trips"
   ]
  },
  {
   "cell_type": "markdown",
   "metadata": {},
   "source": [
    "Clearly, 4 of the top 10 commuter trips begin at one of the San Francisco Caltrain stations. I suspect that this is likely due to the volume of San Francisco residents working day jobs along in the Peninsula, which is most easily reached via Caltrain."
   ]
  },
  {
   "cell_type": "markdown",
   "metadata": {},
   "source": [
    "Finally, the top 5 commuter trips occuring on weekdays between the hours of `7am-10am` and `5pm-8pm` and begin and end at the following stations:\n",
    "\n",
    "## Top 5 Commuter Trips"
   ]
  },
  {
   "cell_type": "code",
   "execution_count": 9,
   "metadata": {},
   "outputs": [
    {
     "data": {
      "text/html": [
       "<div>\n",
       "<style scoped>\n",
       "    .dataframe tbody tr th:only-of-type {\n",
       "        vertical-align: middle;\n",
       "    }\n",
       "\n",
       "    .dataframe tbody tr th {\n",
       "        vertical-align: top;\n",
       "    }\n",
       "\n",
       "    .dataframe thead th {\n",
       "        text-align: right;\n",
       "    }\n",
       "</style>\n",
       "<table border=\"1\" class=\"dataframe\">\n",
       "  <thead>\n",
       "    <tr style=\"text-align: right;\">\n",
       "      <th></th>\n",
       "      <th>start_station_name</th>\n",
       "      <th>end_station_name</th>\n",
       "    </tr>\n",
       "  </thead>\n",
       "  <tbody>\n",
       "    <tr>\n",
       "      <th>1</th>\n",
       "      <td>Harry Bridges Plaza (Ferry Building)</td>\n",
       "      <td>2nd at Townsend</td>\n",
       "    </tr>\n",
       "    <tr>\n",
       "      <th>2</th>\n",
       "      <td>San Francisco Caltrain 2 (330 Townsend)</td>\n",
       "      <td>Townsend at 7th</td>\n",
       "    </tr>\n",
       "    <tr>\n",
       "      <th>3</th>\n",
       "      <td>Steuart at Market</td>\n",
       "      <td>2nd at Townsend</td>\n",
       "    </tr>\n",
       "    <tr>\n",
       "      <th>4</th>\n",
       "      <td>Harry Bridges Plaza (Ferry Building)</td>\n",
       "      <td>Embarcadero at Sansome</td>\n",
       "    </tr>\n",
       "    <tr>\n",
       "      <th>5</th>\n",
       "      <td>Market at Sansome</td>\n",
       "      <td>2nd at South Park</td>\n",
       "    </tr>\n",
       "  </tbody>\n",
       "</table>\n",
       "</div>"
      ],
      "text/plain": [
       "                        start_station_name        end_station_name\n",
       "1     Harry Bridges Plaza (Ferry Building)         2nd at Townsend\n",
       "2  San Francisco Caltrain 2 (330 Townsend)         Townsend at 7th\n",
       "3                        Steuart at Market         2nd at Townsend\n",
       "4     Harry Bridges Plaza (Ferry Building)  Embarcadero at Sansome\n",
       "5                        Market at Sansome       2nd at South Park"
      ]
     },
     "execution_count": 9,
     "metadata": {},
     "output_type": "execute_result"
    }
   ],
   "source": [
    "df_pop_trips[[\"start_station_name\", \"end_station_name\"]].head(6).shift()[1:]"
   ]
  },
  {
   "cell_type": "markdown",
   "metadata": {},
   "source": [
    "# Part 2. Increase Ridership.\n",
    "\n",
    "Ford GoBike's current pricing scheme includes the following options:\n",
    "1. A flat price for a single one-way trip\n",
    "2. A day pass that allows unlimited 30-minute rides for 24 hours\n",
    "3. An annual membership\n",
    "\n"
   ]
  },
  {
   "cell_type": "markdown",
   "metadata": {},
   "source": [
    "To begin thinking about increasing ridership, it is worthwhile to establish a definition of ridership that lends itself to being measured.\n",
    "\n",
    "Ridership is naturally a bounded notion. Ridership has a practical upper bound as follows: If, in a given week, every bike were being ridden at every moment of the week, then ridership would be at a maximum in said week.\n",
    "\n",
    "This insight, while somewhat trivial, lends itself to defining _ridership for a given week_ as deterministically related to: _\"The averge time use time over all the bikes\"_\n",
    "\n",
    "We can express this in clearer notation with the following definitions:\n",
    "* Let $B_w$ denote the finite set of operative bikes in week $w$.\n",
    "* Let $t_{i,w}$ denote the amount of time (in minutes) for which bike $i$ was in use in week $w$.\n",
    "* Let $R_w = \\sum_{i \\in B} t_{i,w}$ then meaure ridership in week $w$.\n",
    "* Notice that the natural bound for Ridership discussed earlier is $ R_w \\leq |B_w|\\cdot T$, where $T$ is the number of minutes in a week.\n",
    "\n",
    "Finally, given the understanding of ridership on a given week as _the averge time use time over all the bikes_, notice that attempting to increase ridership is equivalent to decreasing the _the collective amount of time that bikes spend unused_. This identificaiton will inform the approch taken in the rest of this report to increasing ridership."
   ]
  },
  {
   "cell_type": "markdown",
   "metadata": {},
   "source": [
    "## Inferences about the data\n",
    "The `subscriber_type` field has the following clarification: \"_Subscriber = annual or 30-day member; Customer = 24-hour or 3-day member_\". Since this is inconsistent with the current pricing scheme in the problem statement, I am inferring that the desctiption is out of date, and that the following holds:\n",
    "* A `customer` has either paid a flat price for one trip or has paid for a day pass.\n",
    "* A `subscriber` has paid for an annual membership."
   ]
  },
  {
   "cell_type": "markdown",
   "metadata": {},
   "source": [
    "## Trip Duration in Minutes"
   ]
  },
  {
   "cell_type": "code",
   "execution_count": 10,
   "metadata": {},
   "outputs": [
    {
     "data": {
      "image/png": "[encoded data removed]",
      "text/plain": [
       "<Figure size 720x504 with 1 Axes>"
      ]
     },
     "metadata": {
      "needs_background": "light"
     },
     "output_type": "display_data"
    }
   ],
   "source": [
    "# See Query B in Appendix\n",
    "upper_lim = np.percentile(a = df_duration[\"duration_min\"], q = 97)\n",
    "plt.figure(figsize=(10, 7))\n",
    "plt.hist(x = df_duration[\"duration_min\"], range = (0, upper_lim), bins = 50, alpha = 0.5, color = 'red', density = True)\n",
    "plt.title('Trip Duration')\n",
    "plt.ylabel('count')\n",
    "plt.xlabel('trip duraion [minutes]')\n",
    "\n",
    "plt.show()"
   ]
  },
  {
   "cell_type": "markdown",
   "metadata": {},
   "source": [
    "## Trip Duration by Subscriber Type"
   ]
  },
  {
   "cell_type": "code",
   "execution_count": 11,
   "metadata": {},
   "outputs": [
    {
     "data": {
      "image/png": "[encoded data removed]",
      "text/plain": [
       "<Figure size 720x504 with 1 Axes>"
      ]
     },
     "metadata": {
      "needs_background": "light"
     },
     "output_type": "display_data"
    }
   ],
   "source": [
    "lims, bins, alpha, lw, dens = (0, upper_lim), 20, 0.5, 0, True\n",
    "plt.figure(figsize=(10, 7))\n",
    "sub_duration = df_duration[df_duration[\"subscriber_type\"]=='Subscriber'][\"duration_min\"]\n",
    "cus_duration = df_duration[df_duration[\"subscriber_type\"]=='Customer'][\"duration_min\"]\n",
    "plt.hist(x = sub_duration, label = 'Subscriber',\n",
    "         range = lims, bins = bins, alpha = alpha, lw = lw, density = dens)\n",
    "plt.hist(x = cus_duration, label = 'Customer',\n",
    "         range = lims, bins = bins, alpha = alpha, lw = lw, density = dens)\n",
    "plt.title('Trip Duration by Subscriber Type')\n",
    "plt.ylabel('count')\n",
    "plt.xlabel('trip duraion [minutes]')\n",
    "plt.legend(loc='upper right')\n",
    "\n",
    "plt.show()"
   ]
  },
  {
   "cell_type": "markdown",
   "metadata": {},
   "source": [
    "### Is there a significant differenece between the median trip duarations of customer trips and subscriber trips?"
   ]
  },
  {
   "cell_type": "code",
   "execution_count": 12,
   "metadata": {},
   "outputs": [
    {
     "data": {
      "text/plain": [
       "0.0"
      ]
     },
     "execution_count": 12,
     "metadata": {},
     "output_type": "execute_result"
    }
   ],
   "source": [
    "# Use the Mann Whitney U test because the distributions do not look normal\n",
    "from scipy.stats import mannwhitneyu\n",
    "\n",
    "test = mannwhitneyu(sub_duration, cus_duration, alternative='less')\n",
    "test.pvalue"
   ]
  },
  {
   "cell_type": "markdown",
   "metadata": {},
   "source": [
    "A non-parametric hyopthesis test strongly rejects the null hypothesis that subscribers and customers have the same median trip duration at the 1% alpha level and accepts the alternative that customers have a higher median trip duration."
   ]
  },
  {
   "cell_type": "code",
   "execution_count": 13,
   "metadata": {},
   "outputs": [
    {
     "name": "stdout",
     "output_type": "stream",
     "text": [
      "percentage of trips over 30 minutes done by customers:\n"
     ]
    },
    {
     "data": {
      "text/plain": [
       "0.8713080168776371"
      ]
     },
     "execution_count": 13,
     "metadata": {},
     "output_type": "execute_result"
    }
   ],
   "source": [
    "# Calculate the percentage of trips over 30 minutes done by customers\n",
    "over_30_trips = df_duration[df_duration['duration_min'] >= 30]\n",
    "\n",
    "print('percentage of trips over 30 minutes done by customers:')\n",
    "over_30_trips[over_30_trips['subscriber_type'] == 'Customer'].shape[0]/over_30_trips.shape[0]"
   ]
  },
  {
   "cell_type": "markdown",
   "metadata": {},
   "source": [
    "Additionally, The particularly long right tail of the trip durations of customers is noteworthy. 87% of trips that are over 30 minutes long are done by customers."
   ]
  },
  {
   "cell_type": "markdown",
   "metadata": {},
   "source": [
    "# Rides by Time of Day"
   ]
  },
  {
   "cell_type": "code",
   "execution_count": 14,
   "metadata": {},
   "outputs": [
    {
     "data": {
      "image/png": "[encoded data removed]",
      "text/plain": [
       "<Figure size 432x288 with 1 Axes>"
      ]
     },
     "metadata": {
      "needs_background": "light"
     },
     "output_type": "display_data"
    }
   ],
   "source": [
    "counts = df_duration['time_of_day'].value_counts().reindex(['morning', 'afternoon', 'evening'])\n",
    "\n",
    "y_pos = np.arange(len(counts))\n",
    "performance = counts\n",
    "\n",
    "plt.bar(counts.index, counts, align='center', alpha=0.5)\n",
    "plt.xticks(y_pos, counts.index)\n",
    "plt.ylabel('count')\n",
    "plt.title('Ride Count by time of day')\n",
    "\n",
    "plt.show()"
   ]
  },
  {
   "cell_type": "markdown",
   "metadata": {},
   "source": [
    "The chart above suggests that bike use through out the day may not be uniformly distributed. This leads us to take another look at how much bikes are being used at each hour of the day. However, as mentioned previously, this information is also contained in examining how much bikes are not being used throughout the day. So, instead, this report will examine how a very popular station's capacity fluctuates throughout the day."
   ]
  },
  {
   "cell_type": "markdown",
   "metadata": {},
   "source": [
    "## Available Bikes by hour of day\n",
    "\n",
    "As mentioned previously, the goal of increasing ridership is equivalent to decreasing the collective amount of time in a day that bikes spend unused. The following section will examine the inactivity of bikes throughout the day.\n",
    "\n"
   ]
  },
  {
   "cell_type": "markdown",
   "metadata": {},
   "source": [
    "To start this dicussion, let's find out which stations are the most important."
   ]
  },
  {
   "cell_type": "code",
   "execution_count": 15,
   "metadata": {},
   "outputs": [],
   "source": [
    "def cumulation_index(nums, p):\n",
    "    \"\"\"Returns the first index by which at least propotion p of the data has accumulated\"\"\"\n",
    "    cdf = np.cumsum(nums)/np.sum(nums)\n",
    "    index = np.argwhere(cdf >= p).flatten()[0] # get the first index\n",
    "    \n",
    "    return index"
   ]
  },
  {
   "cell_type": "code",
   "execution_count": 16,
   "metadata": {},
   "outputs": [],
   "source": [
    "# Get the most important starting and ending stations\n",
    "start_station_counts = df_duration['start_station_name'].value_counts()\n",
    "end_station_counts = df_duration['end_station_name'].value_counts()\n",
    "\n",
    "# get the top stations responsible for at least 50% of trip starts and ends\n",
    "p = 0.5\n",
    "imp_start_stations = start_station_counts.index[:cumulation_index(start_station_counts.values, p)]\n",
    "imp_end_stations = end_station_counts.index[:cumulation_index(end_station_counts.values, p)]\n",
    "imp_stations = np.union1d(imp_start_stations, imp_end_stations)\n",
    "\n",
    "# get the important stations associated ids\n",
    "name_to_id = pd.Series(df_duration.start_station_id.values,index=df_duration.start_station_name.values).to_dict()\n",
    "id_to_name = dict(map(reversed, name_to_id.items()))\n",
    "imp_station_ids = [name_to_id[name] for name in imp_stations]"
   ]
  },
  {
   "cell_type": "markdown",
   "metadata": {},
   "source": [
    "The following stations alone are the ports for at least 50% of all bike ride activity. In this sense they are the most important startions.\n",
    "\n",
    "### Stations accounting for more than 50% of all bike activity:"
   ]
  },
  {
   "cell_type": "code",
   "execution_count": 17,
   "metadata": {},
   "outputs": [
    {
     "data": {
      "text/html": [
       "<div>\n",
       "<style scoped>\n",
       "    .dataframe tbody tr th:only-of-type {\n",
       "        vertical-align: middle;\n",
       "    }\n",
       "\n",
       "    .dataframe tbody tr th {\n",
       "        vertical-align: top;\n",
       "    }\n",
       "\n",
       "    .dataframe thead th {\n",
       "        text-align: right;\n",
       "    }\n",
       "</style>\n",
       "<table border=\"1\" class=\"dataframe\">\n",
       "  <thead>\n",
       "    <tr style=\"text-align: right;\">\n",
       "      <th></th>\n",
       "      <th>station_name</th>\n",
       "    </tr>\n",
       "  </thead>\n",
       "  <tbody>\n",
       "    <tr>\n",
       "      <th>0</th>\n",
       "      <td>2nd at Townsend</td>\n",
       "    </tr>\n",
       "    <tr>\n",
       "      <th>1</th>\n",
       "      <td>Embarcadero at Sansome</td>\n",
       "    </tr>\n",
       "    <tr>\n",
       "      <th>2</th>\n",
       "      <td>Harry Bridges Plaza (Ferry Building)</td>\n",
       "    </tr>\n",
       "    <tr>\n",
       "      <th>3</th>\n",
       "      <td>Market at 10th</td>\n",
       "    </tr>\n",
       "    <tr>\n",
       "      <th>4</th>\n",
       "      <td>Market at 4th</td>\n",
       "    </tr>\n",
       "    <tr>\n",
       "      <th>5</th>\n",
       "      <td>Market at Sansome</td>\n",
       "    </tr>\n",
       "    <tr>\n",
       "      <th>6</th>\n",
       "      <td>San Francisco Caltrain (Townsend at 4th)</td>\n",
       "    </tr>\n",
       "    <tr>\n",
       "      <th>7</th>\n",
       "      <td>San Francisco Caltrain 2 (330 Townsend)</td>\n",
       "    </tr>\n",
       "    <tr>\n",
       "      <th>8</th>\n",
       "      <td>Steuart at Market</td>\n",
       "    </tr>\n",
       "    <tr>\n",
       "      <th>9</th>\n",
       "      <td>Temporary Transbay Terminal (Howard at Beale)</td>\n",
       "    </tr>\n",
       "    <tr>\n",
       "      <th>10</th>\n",
       "      <td>Townsend at 7th</td>\n",
       "    </tr>\n",
       "  </tbody>\n",
       "</table>\n",
       "</div>"
      ],
      "text/plain": [
       "                                     station_name\n",
       "0                                 2nd at Townsend\n",
       "1                          Embarcadero at Sansome\n",
       "2            Harry Bridges Plaza (Ferry Building)\n",
       "3                                  Market at 10th\n",
       "4                                   Market at 4th\n",
       "5                               Market at Sansome\n",
       "6        San Francisco Caltrain (Townsend at 4th)\n",
       "7         San Francisco Caltrain 2 (330 Townsend)\n",
       "8                               Steuart at Market\n",
       "9   Temporary Transbay Terminal (Howard at Beale)\n",
       "10                                Townsend at 7th"
      ]
     },
     "execution_count": 17,
     "metadata": {},
     "output_type": "execute_result"
    }
   ],
   "source": [
    "pd.DataFrame({'station_name': imp_stations})"
   ]
  },
  {
   "cell_type": "code",
   "execution_count": 18,
   "metadata": {},
   "outputs": [
    {
     "name": "stdout",
     "output_type": "stream",
     "text": [
      "Station id of 2nd at Townsend, one of the most active stations daily:  61\n"
     ]
    }
   ],
   "source": [
    "print(\"Station id of 2nd at Townsend, one of the most active stations daily: \", name_to_id[\"2nd at Townsend\"])"
   ]
  },
  {
   "cell_type": "code",
   "execution_count": 19,
   "metadata": {},
   "outputs": [],
   "source": [
    "# See Query C in Appendix for df_station\n",
    "df_hour = df_station.groupby('hour').mean()"
   ]
  },
  {
   "cell_type": "markdown",
   "metadata": {},
   "source": [
    "## Available bikes on average for the most popular station by hour of day."
   ]
  },
  {
   "cell_type": "code",
   "execution_count": 20,
   "metadata": {},
   "outputs": [
    {
     "data": {
      "image/png": "[encoded data removed]",
      "text/plain": [
       "<Figure size 1080x504 with 1 Axes>"
      ]
     },
     "metadata": {
      "needs_background": "light"
     },
     "output_type": "display_data"
    }
   ],
   "source": [
    "plt.figure(figsize=(15, 7))\n",
    "plt.bar(df_hour.index, df_hour['capacity'], align='center', alpha=0.5)\n",
    "plt.xticks(df_hour.index)\n",
    "plt.xlabel('hour')\n",
    "plt.ylabel('Average bike availability')\n",
    "plt.title('Averge station capcacity at ' + imp_stations[0])\n",
    "plt.show()"
   ]
  },
  {
   "cell_type": "markdown",
   "metadata": {},
   "source": [
    "From the chart it is clear that 2nd and Townend experiences significant fluctuation in average bike availability throughout the day. In the early hour of the morning and in the late hours of the evening, 55% of the docks at 2nd and Townsend tend to be available. At 8pm and 5pm, the station expereinces a drop in bike availablity most likely due to commuter usage. However, at mid-day between the hours of 10 and 2pm, there tends to be an abundance of available bikes. To increase bike usage and ridership, it would be safe and effective to incentivize the usage of bikes at these hours of the day of high bike availability."
   ]
  },
  {
   "cell_type": "markdown",
   "metadata": {},
   "source": [
    "### Which stations experience the highest fluctuations of bike availability?\n",
    "2nd and Townsend is an example of a station which experiences noticabele fluctuation in bike availablity on average throughout a typical day. Next, we look at which stations experience the most fluctuation."
   ]
  },
  {
   "cell_type": "code",
   "execution_count": 23,
   "metadata": {},
   "outputs": [],
   "source": [
    "# See Query D in Appendix for df_fluctuation\n",
    "# add column containing station names associated with station ids\n",
    "df_fluctuation['station'] = df_fluctuation.apply(lambda row: id_to_name.get(row['station_id'], \"na\"), axis = 1)"
   ]
  },
  {
   "cell_type": "markdown",
   "metadata": {},
   "source": [
    "### The following stations experice the highest fluctuations in bike availability on average throughout the day."
   ]
  },
  {
   "cell_type": "code",
   "execution_count": 24,
   "metadata": {},
   "outputs": [
    {
     "data": {
      "text/html": [
       "<div>\n",
       "<style scoped>\n",
       "    .dataframe tbody tr th:only-of-type {\n",
       "        vertical-align: middle;\n",
       "    }\n",
       "\n",
       "    .dataframe tbody tr th {\n",
       "        vertical-align: top;\n",
       "    }\n",
       "\n",
       "    .dataframe thead th {\n",
       "        text-align: right;\n",
       "    }\n",
       "</style>\n",
       "<table border=\"1\" class=\"dataframe\">\n",
       "  <thead>\n",
       "    <tr style=\"text-align: right;\">\n",
       "      <th></th>\n",
       "      <th>station</th>\n",
       "    </tr>\n",
       "  </thead>\n",
       "  <tbody>\n",
       "    <tr>\n",
       "      <th>0</th>\n",
       "      <td>San Francisco Caltrain (Townsend at 4th)</td>\n",
       "    </tr>\n",
       "    <tr>\n",
       "      <th>1</th>\n",
       "      <td>San Francisco Caltrain 2 (330 Townsend)</td>\n",
       "    </tr>\n",
       "    <tr>\n",
       "      <th>2</th>\n",
       "      <td>Grant Avenue at Columbus Avenue</td>\n",
       "    </tr>\n",
       "    <tr>\n",
       "      <th>3</th>\n",
       "      <td>Harry Bridges Plaza (Ferry Building)</td>\n",
       "    </tr>\n",
       "    <tr>\n",
       "      <th>4</th>\n",
       "      <td>Embarcadero at Bryant</td>\n",
       "    </tr>\n",
       "  </tbody>\n",
       "</table>\n",
       "</div>"
      ],
      "text/plain": [
       "                                    station\n",
       "0  San Francisco Caltrain (Townsend at 4th)\n",
       "1   San Francisco Caltrain 2 (330 Townsend)\n",
       "2           Grant Avenue at Columbus Avenue\n",
       "3      Harry Bridges Plaza (Ferry Building)\n",
       "4                     Embarcadero at Bryant"
      ]
     },
     "execution_count": 24,
     "metadata": {},
     "output_type": "execute_result"
    }
   ],
   "source": [
    "df_fluctuation[['station']].head(5)"
   ]
  },
  {
   "cell_type": "markdown",
   "metadata": {},
   "source": [
    "It appears that SF Caltrain (Townsend at 4th) experiences the greatest fluctuations in bike availability."
   ]
  },
  {
   "cell_type": "code",
   "execution_count": 25,
   "metadata": {},
   "outputs": [],
   "source": [
    "# See Query E in Appendix\n",
    "df_hour_70 = df_station.groupby('hour').mean()"
   ]
  },
  {
   "cell_type": "markdown",
   "metadata": {},
   "source": [
    "## Available bike percentage on average for SF Caltrain (townsend at 4th)"
   ]
  },
  {
   "cell_type": "code",
   "execution_count": 26,
   "metadata": {},
   "outputs": [
    {
     "data": {
      "image/png": "[encoded data removed]",
      "text/plain": [
       "<Figure size 1080x504 with 1 Axes>"
      ]
     },
     "metadata": {
      "needs_background": "light"
     },
     "output_type": "display_data"
    }
   ],
   "source": [
    "plt.figure(figsize=(15, 7))\n",
    "plt.bar(df_hour_70.index, df_hour['capacity'], align='center', alpha=0.5)\n",
    "plt.xticks(df_hour_70.index)\n",
    "plt.xlabel('hour')\n",
    "plt.ylabel('Average bikes available')\n",
    "plt.title('Averge station capcacity at ' + 'SF Caltrain (Townsend at 4th)')\n",
    "plt.show()"
   ]
  },
  {
   "cell_type": "markdown",
   "metadata": {},
   "source": [
    "# Rides by Month\n",
    "\n",
    "Now, we briefly turn to looking at ride count by month in order to determine whether rides is at all seasonal."
   ]
  },
  {
   "cell_type": "code",
   "execution_count": 27,
   "metadata": {},
   "outputs": [
    {
     "data": {
      "image/png": "[encoded data removed]",
      "text/plain": [
       "<Figure size 1080x504 with 1 Axes>"
      ]
     },
     "metadata": {
      "needs_background": "light"
     },
     "output_type": "display_data"
    }
   ],
   "source": [
    "# See Query F in Appendix\n",
    "plt.figure(figsize=(15, 7))\n",
    "plt.bar(df_month.index, df_month['cnt'], align='center', alpha=0.5)\n",
    "plt.xticks(df_month.index)\n",
    "plt.xlabel('month')\n",
    "plt.ylabel('Count')\n",
    "plt.title('Number of rides by Month')\n",
    "plt.show()"
   ]
  },
  {
   "cell_type": "markdown",
   "metadata": {},
   "source": [
    "### Are ride count and month independent variables?"
   ]
  },
  {
   "cell_type": "code",
   "execution_count": 28,
   "metadata": {},
   "outputs": [
    {
     "data": {
      "text/plain": [
       "0.0"
      ]
     },
     "execution_count": 28,
     "metadata": {},
     "output_type": "execute_result"
    }
   ],
   "source": [
    "from scipy.stats import chisquare\n",
    "\n",
    "test = chisquare(df_month['cnt'].values)\n",
    "test.pvalue"
   ]
  },
  {
   "cell_type": "markdown",
   "metadata": {},
   "source": [
    "From a simple chi-square test of homogeneity, we can strongly reject the null hypothesis that the number of rides in a given month is independent of the month at the 1% significance level, and we can accept the alternaitve hypothesis that says month and ride count are dependent. This conclusion is consistent with the visual difference in ride counts over each month of the year. In winter there appers to be a decrease in trip count."
   ]
  },
  {
   "cell_type": "markdown",
   "metadata": {},
   "source": [
    "# Recommendations.\n",
    "\n",
    "\n",
    "### Recommendation for increasing subscribers.\n",
    "According to a chisquare test of uniformity, there is a highly significant dependence between what month it is and the number of rides which occur in that month. In other words, seasonality has a significant impact on bike usage. Thus, creating a monthly membership pass, as opposed to only offering a annual pass, will accommodate the seasonal preferences of riders and result in more subscribers.\n",
    "\n",
    "### Recommendation for increasing bike trips.\n",
    "There are clear fluctuations in the average percentage of occupied docks at each station throughout the day. When the percantage of occupied docks is high at a given station, there is both a need to redistribute the bikes to other stations and a valuable opportunity to increase ridership. At stations which regularly experience moments of high bike station occupation, Ford GoBike can offer discounts on rides starting at such stations. \n",
    "\n",
    "When offering a discounted ride at station $x$ a an hour of the day in which the station is periodically fuller than usual, it is reasonable to expect that the rides originating from station $x$ at said hour will certainly not decrease on average. Instead, they will more likely increase. As a result, station $x$ is likely to experience greater use.\n",
    "\n",
    "It should be noted that this suggestion primarily targets riders paying for single rides because subscribers with annual memberships will be agnostic to the dynamic pricing of single rides. \n",
    "\n",
    "This suggestion can be implemented in two different ways. \n",
    "1. Discounts for single rides can be offered at different hours of the day for each station.\n",
    "2. Discounts for single rides can be offered at the same hours of the day for all stations univerally.\n",
    "\n",
    "While option 1. would theoretically result in discounts that would meet the needs of bike redistribution and ridership augmentation better, customers may find the discounts annoying inconsistent accross different stations at a particular time of the day, espcially since the discounts would be offered in the middle of the day between 10am and 2pm, which is not a commuting time. Therefore, option 2 has the strength of providing an easy-to-remember discount that is consistent across all stations. \n",
    "\n",
    "\n",
    "### Recommendation for increasing trip durations.\n",
    "From the analysis of trip duaration, it was determined that customers have a significantly higher median trip duration than subscribers do. This is unsurprising because many subscribers are probably using the bikes for a commuting routine. In the rides of customers paying a flat price for a single ride or for a single day of unlimited 30 minute rides, there is an opportunity to increase the usage of bikes by allowing longer trips. \n",
    "\n",
    "Since customers tend to enjoy longer rides, and 88% of rides over 30 minutes are done by customers, removing the 30 minute duration constraint for the day pass or extending it to 60 minutes would enable customers to take longer and more leisurely rides. It is reasonable to say that the customers who use day passes will certainly not ride for less time on average in response to this change. Instead, they will more likely have longer and happier rides, thus increasing ridership according to the metric established earlier in this notebook.\n",
    "\n",
    "# Summary of Recommendations:\n",
    "This report offers three core recommendations:\n",
    "\n",
    "1. Offer monthly memberships in addition to annual memberships.\n",
    "2. Offer consistent daily discounts from the single trip flat rate according to the hour of the day at all stations universally. Sensible candidates for the hours of discounted flat rates are:\n",
    "    * Offering a \"Night Owl\" discount for riding between `8pm` and `6am`\n",
    "    * Offering a \"Midday\" discount for riding between `10am` and `3pm` \n",
    "3. Remove or extend the trip duration constraint associated with the day pass.\n",
    "\n",
    "Together these changes are likely to:\n",
    "1. Increase the number of subscribers.\n",
    "2. Increase the number of trips at unpopular riding times.\n",
    "3. Result in longer trips and happier customers."
   ]
  },
  {
   "cell_type": "markdown",
   "metadata": {},
   "source": [
    "## Query Appendix."
   ]
  },
  {
   "cell_type": "markdown",
   "metadata": {},
   "source": [
    "#### Query A: \n",
    "Querying the trips that meet the criteria for a commuter trip.\n",
    "\n",
    "QUERY:\n",
    "```\n",
    "WITH  commuter_tbl AS \n",
    "    (SELECT * FROM \n",
    "        (SELECT *, EXTRACT(HOUR FROM start_date) AS start_hour, EXTRACT(HOUR FROM end_date) AS end_hour \n",
    "            FROM `my-test-project-251101.bike_trip_data.bike_trips`) \n",
    "        WHERE (start_hour > 7 AND end_hour < 10) OR \n",
    "              (start_hour > 17 AND end_hour < 20) AND EXTRACT(DAYOFWEEK FROM start_date) <= 5) \n",
    "SELECT start_station_name, end_station_name, COUNT(*) AS number \n",
    "    FROM commuter_tbl \n",
    "         GROUP BY start_station_name, end_station_name ORDER BY COUNT(*) DESC LIMIT 10\n",
    "\n",
    "```"
   ]
  },
  {
   "cell_type": "code",
   "execution_count": 2,
   "metadata": {},
   "outputs": [
    {
     "name": "stdout",
     "output_type": "stream",
     "text": [
      "Waiting on bqjob_r21472a09bb184d06_0000016d98423a6d_1 ... (1s) Current status: DONE   "
     ]
    }
   ],
   "source": [
    "# Query A\n",
    "! bq query --use_legacy_sql=FALSE --format=csv 'WITH  commuter_tbl AS (SELECT * FROM (SELECT *, EXTRACT(HOUR FROM start_date) AS start_hour, EXTRACT(HOUR FROM end_date) AS end_hour FROM `my-test-project-251101.bike_trip_data.bike_trips`) WHERE (start_hour > 7 AND end_hour < 10) OR (start_hour > 17 AND end_hour < 20) AND EXTRACT(DAYOFWEEK FROM start_date) <= 5) SELECT start_station_name, end_station_name, COUNT(*) AS number FROM commuter_tbl GROUP BY start_station_name, end_station_name ORDER BY COUNT(*) DESC LIMIT 10' > result.csv\n",
    "df_pop_trips = pd.read_csv('result.csv')"
   ]
  },
  {
   "cell_type": "markdown",
   "metadata": {},
   "source": [
    "#### Query B\n",
    "Querying the trips that qualify as commuter trips.\n",
    "\n",
    "QUERY:\n",
    "```\n",
    "WITH hour_tbl AS \n",
    "    (SELECT *, EXTRACT(HOUR FROM end_date) AS end_hour, EXTRACT(DAYOFWEEK FROM end_date) AS day_of_week \n",
    "        FROM `my-test-project-251101.bike_trip_data.bike_trips`) \n",
    "SELECT *, duration_sec/60 as duration_min, \n",
    "    CASE WHEN end_hour < 12 THEN \"morning\" \n",
    "         WHEN end_hour < 17 THEN \"afternoon\" \n",
    "         ELSE \"evening\" END AS time_of_day, \n",
    "    CASE WHEN day_of_week <=5 THEN \"weekday\" \n",
    "         ELSE \"weekend\" END AS week_time \n",
    "    FROM hour_tbl WHERE RAND() < 0.01' > result_2.csv\n",
    "```"
   ]
  },
  {
   "cell_type": "code",
   "execution_count": 3,
   "metadata": {},
   "outputs": [
    {
     "name": "stdout",
     "output_type": "stream",
     "text": [
      "Waiting on bqjob_r702202ff63bba4f5_0000016d98424b7f_1 ... (2s) Current status: DONE   "
     ]
    }
   ],
   "source": [
    "# Query B\n",
    "! bq query --use_legacy_sql=FALSE --format=csv --max_rows=10000 'WITH hour_tbl AS (SELECT *, EXTRACT(HOUR FROM end_date) AS end_hour, EXTRACT(DAYOFWEEK FROM end_date) AS day_of_week FROM `my-test-project-251101.bike_trip_data.bike_trips`) SELECT *, duration_sec/60 as duration_min, CASE WHEN end_hour < 12 THEN \"morning\" WHEN end_hour < 17 THEN \"afternoon\" ELSE \"evening\" END AS time_of_day, CASE WHEN day_of_week <=5 THEN \"weekday\" ELSE \"weekend\" END AS week_time FROM hour_tbl WHERE RAND() < 0.01' > result_2.csv\n",
    "df_duration = pd.read_csv('result_2.csv')"
   ]
  },
  {
   "cell_type": "markdown",
   "metadata": {},
   "source": [
    "#### Query C\n",
    "Querying the station data from 2nd and Townsend, the most popular station\n",
    "\n",
    "QUERY:\n",
    "\n",
    "```\n",
    "SELECT *, EXTRACT(HOUR FROM time) AS hour, EXTRACT(DAYOFWEEK FROM time) AS day_of_week, \n",
    "    bikes_available/(bikes_available + docks_available) AS capacity \n",
    "    FROM `my-test-project-251101.bike_trip_data.total_bikes` \n",
    "    WHERE station_id = 61\n",
    "```"
   ]
  },
  {
   "cell_type": "code",
   "execution_count": 4,
   "metadata": {},
   "outputs": [
    {
     "name": "stdout",
     "output_type": "stream",
     "text": [
      "Waiting on bqjob_r70ba856a5e4846d1_0000016d984265d3_1 ... (5s) Current status: DONE   "
     ]
    }
   ],
   "source": [
    "# Query C\n",
    "! bq query --use_legacy_sql=FALSE --max_rows=100000000 --format=csv 'SELECT *, EXTRACT(HOUR FROM time) AS hour, EXTRACT(DAYOFWEEK FROM time) AS day_of_week, bikes_available/(bikes_available + docks_available) AS capacity FROM `my-test-project-251101.bike_trip_data.total_bikes` WHERE station_id = 61' > result_3.csv\n",
    "df_station = pd.read_csv('result_3.csv')"
   ]
  },
  {
   "cell_type": "markdown",
   "metadata": {},
   "source": [
    "#### Query D\n",
    "Queries the stations with highest to lowest standard deviation in bike availability throughout the day\n",
    "\n",
    "QUERY:\n",
    "```\n",
    "WITH capacity_tbl AS \n",
    "    (SELECT *, EXTRACT(HOUR FROM time) AS hour, EXTRACT(DAYOFWEEK FROM time) AS day_of_week,\n",
    "     bikes_available/(bikes_available + docks_available) AS capacity \n",
    "         FROM `my-test-project-251101.bike_trip_data.total_bikes` \n",
    "         WHERE bikes_available + docks_available > 0) \n",
    "SELECT station_id, STDDEV(capacity) AS sd_capacity \n",
    "    FROM capacity_tbl GROUP BY station_id ORDER BY STDDEV(capacity) DESC\n",
    "```"
   ]
  },
  {
   "cell_type": "code",
   "execution_count": 22,
   "metadata": {},
   "outputs": [
    {
     "name": "stdout",
     "output_type": "stream",
     "text": [
      "\r",
      "Waiting on bqjob_rfcdcbb4a9d9d63d_0000016d984c1357_1 ... (0s) Current status: DONE   "
     ]
    }
   ],
   "source": [
    "# Query D\n",
    "! bq query --use_legacy_sql=FALSE --max_rows=100000000 --format=csv 'WITH capacity_tbl AS (SELECT *, EXTRACT(HOUR FROM time) AS hour, EXTRACT(DAYOFWEEK FROM time) AS day_of_week, bikes_available/(bikes_available + docks_available) AS capacity FROM `my-test-project-251101.bike_trip_data.total_bikes` WHERE bikes_available + docks_available > 0) SELECT station_id, STDDEV(capacity) AS sd_capacity FROM capacity_tbl GROUP BY station_id ORDER BY STDDEV(capacity) DESC' > result_4.csv\n",
    "df_fluctuation = pd.read_csv('result_4.csv')"
   ]
  },
  {
   "cell_type": "markdown",
   "metadata": {},
   "source": [
    "#### Query E\n",
    "Fetches the station data from SF Caltrain (Townsend at 4th), the station with the highest fluctuation\n",
    "\n",
    "QUERY:\n",
    "```\n",
    "SELECT *, EXTRACT(HOUR FROM time) AS hour, EXTRACT(DAYOFWEEK FROM time) AS day_of_week, \n",
    "    bikes_available/(bikes_available + docks_available) AS capacity \n",
    "    FROM `my-test-project-251101.bike_trip_data.total_bikes` \n",
    "    WHERE station_id = 70\n",
    "```"
   ]
  },
  {
   "cell_type": "code",
   "execution_count": 6,
   "metadata": {},
   "outputs": [
    {
     "name": "stdout",
     "output_type": "stream",
     "text": [
      "Waiting on bqjob_r4047789b11788916_0000016d98450a40_1 ... (6s) Current status: DONE   "
     ]
    }
   ],
   "source": [
    "# Query E\n",
    "! bq query --use_legacy_sql=FALSE --max_rows=100000000 --format=csv 'SELECT *, EXTRACT(HOUR FROM time) AS hour, EXTRACT(DAYOFWEEK FROM time) AS day_of_week, bikes_available/(bikes_available + docks_available) AS capacity FROM `my-test-project-251101.bike_trip_data.total_bikes` WHERE station_id = 70' > result_3.csv\n",
    "df_station_70 = pd.read_csv('result_3.csv')\n",
    "df_hour_70 = df_station.groupby('hour').mean()"
   ]
  },
  {
   "cell_type": "markdown",
   "metadata": {},
   "source": [
    "#### Query F\n",
    "Fetch the ride counts by month\n",
    "\n",
    "QUERY:\n",
    "```\n",
    "SELECT COUNT(*) as cnt, EXTRACT(MONTH FROM start_date) AS month \n",
    "    FROM `my-test-project-251101.bike_trip_data.bike_trips` \n",
    "    GROUP BY month' > result_5.csv\n",
    "```"
   ]
  },
  {
   "cell_type": "code",
   "execution_count": 7,
   "metadata": {},
   "outputs": [
    {
     "name": "stdout",
     "output_type": "stream",
     "text": [
      "\r",
      "Waiting on bqjob_r6b7244ec3d1abe04_0000016d9847a5e6_1 ... (0s) Current status: DONE   "
     ]
    }
   ],
   "source": [
    "# Query F: \n",
    "! bq query --use_legacy_sql=FALSE --max_rows=100000000 --format=csv 'SELECT COUNT(*) as cnt, EXTRACT(MONTH FROM start_date) AS month FROM `my-test-project-251101.bike_trip_data.bike_trips` GROUP BY month' > result_5.csv\n",
    "df_month = pd.read_csv('result_5.csv')\n",
    "\n",
    "# Wrangling\n",
    "months = ['Jan', 'Feb', 'Mar', 'April', 'May', 'June', 'July', 'Aug', 'Sept', 'Oct', 'Nov', 'Dec']\n",
    "df_month = df_month.sort_values('month')\n",
    "df_month.index = months"
   ]
  }
 ],
 "metadata": {
  "kernelspec": {
   "display_name": "Python 3",
   "language": "python",
   "name": "python3"
  },
  "language_info": {
   "codemirror_mode": {
    "name": "ipython",
    "version": 3
   },
   "file_extension": ".py",
   "mimetype": "text/x-python",
   "name": "python",
   "nbconvert_exporter": "python",
   "pygments_lexer": "ipython3",
   "version": "3.6.8"
  }
 },
 "nbformat": 4,
 "nbformat_minor": 2
}
